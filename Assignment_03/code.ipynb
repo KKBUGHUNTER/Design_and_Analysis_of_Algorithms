{
  "cells": [
    {
      "cell_type": "code",
      "execution_count": 4,
      "metadata": {
        "colab": {
          "base_uri": "https://localhost:8080/"
        },
        "id": "gq2vpoY8aAkW",
        "outputId": "76529e2f-097e-457f-820e-2e42fc9633bb"
      },
      "outputs": [
        {
          "name": "stdout",
          "output_type": "stream",
          "text": [
            "The pairs:  [(3, 8), (2, 5), (2, 8), (1, 9), (1, 5), (1, 8)]\n",
            "The number of inverstion pairs in the array:  6\n"
          ]
        }
      ],
      "source": [
        "def invertcount(arr):\n",
        " count =0\n",
        " pairs = []\n",
        " for i in arr:\n",
        "    for j in arr[i+1:len(arr)]:\n",
        "         if(i<j):\n",
        "            count+=1\n",
        "            pairs.append((i,j))\n",
        " print(\"The pairs: \",pairs)\n",
        " return count\n",
        "\n",
        "arr = [3,2,9,5,8,1]\n",
        "print(\"The number of inverstion pairs in the array: \",invertcount(arr))\n"
      ]
    },
    {
      "cell_type": "code",
      "execution_count": 5,
      "metadata": {
        "colab": {
          "base_uri": "https://localhost:8080/"
        },
        "id": "_y3PYCxOa4I6",
        "outputId": "50d6eb6e-192c-4ee8-f5ce-2ef1468a3c08"
      },
      "outputs": [
        {
          "name": "stdout",
          "output_type": "stream",
          "text": [
            "The sorted list using the Comparison count sort method: [4, 4, 7, 9, 10]\n"
          ]
        }
      ],
      "source": [
        "def comparison_counting_sort(arr):\n",
        " n = len(arr)\n",
        " count = [0] * n\n",
        " sortedarr = [0] * n\n",
        " \n",
        " for i in range(n):\n",
        "    for j in range(i+1,n):\n",
        "        if arr[i] < arr[j]:\n",
        "            count[j]+=1\n",
        "        else:\n",
        "            count[i]+=1\n",
        " for i in range(n-1,-1,-1):\n",
        "    sortedarr[count[i]] = arr[i]\n",
        " \n",
        " return sortedarr\n",
        " \n",
        "nums=[9,4,7,4,10]\n",
        "print(\"The sorted list using the Comparison count sort method:\",comparison_counting_sort(nums))"
      ]
    }
  ],
  "metadata": {
    "colab": {
      "provenance": []
    },
    "kernelspec": {
      "display_name": "Python 3",
      "name": "python3"
    },
    "language_info": {
      "name": "python"
    }
  },
  "nbformat": 4,
  "nbformat_minor": 0
}
