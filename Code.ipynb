{
 "cells": [
  {
   "attachments": {},
   "cell_type": "markdown",
   "metadata": {},
   "source": [
    "# Primality Checking"
   ]
  },
  {
   "cell_type": "code",
   "execution_count": 2,
   "metadata": {},
   "outputs": [
    {
     "name": "stdout",
     "output_type": "stream",
     "text": [
      "Count is:  1\n",
      "Prime\n"
     ]
    }
   ],
   "source": [
    "#primality test\n",
    "#read input from user\n",
    "#Asymptotic analysis of the algorithm\n",
    "#The algorithm is O(sqrt(n))\n",
    "#sqrt function imported from math module\n",
    "#sqrt is not defined \n",
    "import math\n",
    "#from math import sqrt\n",
    "\n",
    "n = int(input(\"Enter a number: \"))\n",
    "#initialize the counter\n",
    "count = 0   #count the number of factors\n",
    "#loop from 1 to n\n",
    "for i in range(2, int(math.sqrt(n))+1):\n",
    "    #check if i is a factor\n",
    "    if n%i != 0:\n",
    "        #increment the counter\n",
    "        count = count + 1\n",
    "        #exit the loop\n",
    "        #break\n",
    "#check if count is 0\n",
    "print(\"Count is: \", count)\n",
    "if count != 0:\n",
    "    #print prime\n",
    "    print(\"Prime\")\n",
    "else:\n",
    "    #print not prime\n",
    "    print(\"Not prime\")\n",
    "    "
   ]
  },
  {
   "attachments": {},
   "cell_type": "markdown",
   "metadata": {},
   "source": [
    "# Counting Inversions"
   ]
  },
  {
   "cell_type": "code",
   "execution_count": 3,
   "metadata": {},
   "outputs": [
    {
     "name": "stdout",
     "output_type": "stream",
     "text": [
      "3 2\n",
      "3 1\n",
      "2 1\n",
      "8 1\n",
      "4\n"
     ]
    }
   ],
   "source": [
    "#count inversion in a list\n",
    "#read list\n",
    "list=[3,2,8,1]\n",
    "def count_inversion(list):\n",
    "    count = 0\n",
    "    for i in range(len(list)):\n",
    "        for j in range(i+1, len(list)):\n",
    "            if list[i] > list[j]:\n",
    "                print(list[i], list[j])\n",
    "                count += 1\n",
    "    return count\n",
    "print(count_inversion(list))"
   ]
  },
  {
   "attachments": {},
   "cell_type": "markdown",
   "metadata": {},
   "source": [
    "# GCD of Two numbers"
   ]
  },
  {
   "cell_type": "code",
   "execution_count": 5,
   "metadata": {},
   "outputs": [
    {
     "name": "stdout",
     "output_type": "stream",
     "text": [
      "The greatest common divisor of 10 and 26 is 2\n",
      "The gcd function was called 6 times.\n"
     ]
    }
   ],
   "source": [
    "#read two integers from the user\n",
    "#count the number  of times the gcd is called\n",
    "#aymptotic analysis of the gcd function is O(log(min(a,b)))\n",
    "count=0\n",
    "a = 10\n",
    "b = 26\n",
    "def gcd(a, b):\n",
    "    global count\n",
    "    count+=1\n",
    "    if b == 0:\n",
    "        return a\n",
    "    else:\n",
    "        return gcd(b, a % b)\n",
    "print(\"The greatest common divisor of\", a, \"and\", b, \"is\", gcd(a, b))\n",
    "print(\"The gcd function was called\", count, \"times.\")\n",
    "#Enter the first integer: 27\n",
    "#Enter the second integer: 15\n",
    "#The greatest common divisor of 27 and 15 is 3\n",
    "#The gcd function was called 4 times."
   ]
  },
  {
   "attachments": {},
   "cell_type": "markdown",
   "metadata": {},
   "source": [
    "## Analyse the number of instructions executed in the following recursive algorithm for computing nth Fibonacci numbers as a function of n \n",
    "\n"
   ]
  },
  {
   "cell_type": "code",
   "execution_count": 9,
   "metadata": {},
   "outputs": [
    {
     "name": "stdout",
     "output_type": "stream",
     "text": [
      "This program computes the nth Fibonacci number.\n",
      "The value of the Fibonacci number is: 377\n",
      "The value of the Fibonacci number is: 46368\n"
     ]
    }
   ],
   "source": [
    "#fibonacci.py\n",
    "# A program that computes the nth Fibonacci number\n",
    "# Illustrates for loop with an accumulator\n",
    "#asymptotic analysis: O(n)\n",
    "def main(n): \n",
    "    print(\"This program computes the nth Fibonacci number.\")\n",
    "    \n",
    "    fib = 1\n",
    "    fib1 = 1\n",
    "    fib2 = 1\n",
    "    for i in range(n-2):\n",
    "        fib = fib1 + fib2\n",
    "        fib2 = fib1\n",
    "        fib1 = fib\n",
    "    print(\"The value of the Fibonacci number is:\", fib)\n",
    "main(14)\n",
    "\n",
    "\n",
    "#fibonacci recursion\n",
    "# A program that computes the nth Fibonacci number\n",
    "#asymptotic analysis: O(2^n)\n",
    "def fib(n):\n",
    "    if n == 1 or n == 2:\n",
    "        return 1\n",
    "    else:\n",
    "        return fib(n-1) + fib(n-2)\n",
    "n=24\n",
    "print(\"The value of the Fibonacci number is:\", fib(n))"
   ]
  },
  {
   "attachments": {},
   "cell_type": "markdown",
   "metadata": {},
   "source": [
    "# Towers of Hanoi"
   ]
  },
  {
   "cell_type": "code",
   "execution_count": 11,
   "metadata": {},
   "outputs": [
    {
     "name": "stdout",
     "output_type": "stream",
     "text": [
      "Move disk 1 from source A to destination B\n",
      "Move disk 2 from source A to destination C\n",
      "Move disk 1 from source B to destination C\n",
      "Move disk 3 from source A to destination B\n",
      "Move disk 1 from source C to destination A\n",
      "Move disk 2 from source C to destination B\n",
      "Move disk 1 from source A to destination B\n"
     ]
    }
   ],
   "source": [
    "def towerofhanoi(n, source, dest, aux):\n",
    "    if n == 1:\n",
    "        print(\"Move disk 1 from source\",source,\"to destination\",dest)\n",
    "        return\n",
    "    towerofhanoi(n-1, source, aux, dest)\n",
    "    print(\"Move disk\",n,\"from source\",source,\"to destination\",dest)\n",
    "    towerofhanoi(n-1, aux, dest, source)\n",
    "towerofhanoi(3, 'A', 'B', 'C')\n",
    "\n"
   ]
  },
  {
   "attachments": {},
   "cell_type": "markdown",
   "metadata": {},
   "source": [
    "# Sorting\n",
    "## Bubble Sort"
   ]
  },
  {
   "cell_type": "code",
   "execution_count": null,
   "metadata": {},
   "outputs": [],
   "source": [
    "#bubblesort\n",
    "#count the number of comparisons\n",
    "#count the number of swaps\n",
    "def bubblesort(a):\n",
    "    count=0\n",
    "    count1=0\n",
    "    for i in range(len(a)-1):\n",
    "        for j in range(len(a)-1-i):\n",
    "            count+=1\n",
    "            if a[j]>a[j+1]:\n",
    "                a[j],a[j+1]=a[j+1],a[j]\n",
    "                count1+=1\n",
    "    return a,count,count1\n",
    "a=[5,4,3,2,1]\n",
    "print(bubblesort(a))\n",
    "\"\"\"\n",
    "def bubblesort(a):\n",
    "    for i in range(len(a)-1):\n",
    "        for j in range(len(a)-1-i):\n",
    "            if a[j]>a[j+1]:\n",
    "                a[j],a[j+1]=a[j+1],a[j]\n",
    "    return a\n",
    "#read list\n",
    "a=[2,7,6,8,9,12,10]\n",
    "print(bubblesort(a))\n",
    "\"\"\""
   ]
  },
  {
   "attachments": {},
   "cell_type": "markdown",
   "metadata": {},
   "source": [
    "## Selection Sort"
   ]
  },
  {
   "cell_type": "code",
   "execution_count": 12,
   "metadata": {},
   "outputs": [
    {
     "name": "stdout",
     "output_type": "stream",
     "text": [
      "[1, 2, 3, 4, 5, 6, 7, 8]\n"
     ]
    }
   ],
   "source": [
    "#selection sort\n",
    "def selection_sort(nums):\n",
    "    for i in range(len(nums)):\n",
    "        min_index = i\n",
    "        for j in range(i+1, len(nums)):\n",
    "            if nums[j] < nums[min_index]:\n",
    "                min_index = j\n",
    "        nums[i], nums[min_index] = nums[min_index], nums[i]\n",
    "    return nums\n",
    "#read list of numbers\n",
    "nums=[8,7,6,5,4,3,2,1]\n",
    "#call selection_sort\n",
    "print(selection_sort(nums))"
   ]
  },
  {
   "attachments": {},
   "cell_type": "markdown",
   "metadata": {},
   "source": [
    "# Unique Elements"
   ]
  },
  {
   "cell_type": "code",
   "execution_count": 17,
   "metadata": {},
   "outputs": [
    {
     "name": "stdout",
     "output_type": "stream",
     "text": [
      "{1, 2, 3, 4, 5, 6, 7, 8, 9, 10}\n"
     ]
    }
   ],
   "source": [
    "#check unique elements\n",
    "def unique_elements(list1):\n",
    "    list_set = set(list1)\n",
    "    return list_set\n",
    "#read list of numbers\n",
    "list1 = [1,2,3,4,5,6,7,8,9,10,1,2,3,4,5,6,7,8,9,10]\n",
    "#call unique_elements\n",
    "print(unique_elements(list1))"
   ]
  },
  {
   "attachments": {},
   "cell_type": "markdown",
   "metadata": {},
   "source": [
    "# Sum of series"
   ]
  },
  {
   "cell_type": "code",
   "execution_count": 19,
   "metadata": {},
   "outputs": [
    {
     "name": "stdout",
     "output_type": "stream",
     "text": [
      "Sum of series is 22100.0\n"
     ]
    }
   ],
   "source": [
    "#sum of 1+(1+2)+(1+2+3)+...+(1+2+3+...+n)\n",
    "\n",
    "def sumofseries(n):\n",
    "    if n==1:\n",
    "        return 1\n",
    "    return sumofseries(n-1)+n*(n+1)/2\n",
    "#read n\n",
    "n = 50\n",
    "#call sumofseries\n",
    "print(\"Sum of series is\",sumofseries(n))"
   ]
  },
  {
   "attachments": {},
   "cell_type": "markdown",
   "metadata": {},
   "source": [
    "#  Frequent occurring alphabet "
   ]
  },
  {
   "cell_type": "code",
   "execution_count": 22,
   "metadata": {},
   "outputs": [
    {
     "name": "stdout",
     "output_type": "stream",
     "text": [
      "{'s': 2, 'n': 4, ' ': 3, 'c': 1, 'o': 2, 'l': 2, 'e': 5, 'g': 3, 'f': 1, 'i': 2, 'r': 1}\n"
     ]
    }
   ],
   "source": [
    "#print most frequent characters in a string\n",
    "def most_frequent(string):\n",
    "    d = dict()\n",
    "    for key in string:\n",
    "        if key not in d:\n",
    "            d[key] = 1\n",
    "        else:\n",
    "            d[key] += 1\n",
    "    return d\n",
    "#read string\n",
    "string = \"ssn college of engineering\"\n",
    "#call most_frequent\n",
    "print(most_frequent(string))"
   ]
  },
  {
   "attachments": {},
   "cell_type": "markdown",
   "metadata": {},
   "source": [
    "# Binary Search"
   ]
  },
  {
   "cell_type": "code",
   "execution_count": 25,
   "metadata": {},
   "outputs": [
    {
     "name": "stdout",
     "output_type": "stream",
     "text": [
      "Element found at index 7\n"
     ]
    }
   ],
   "source": [
    "#binary search recursive\n",
    "#asymptoic analysis of binary search\n",
    "#best case: O(1)\n",
    "#worst case: O(log(n))\n",
    "#average case: O(log(n))\n",
    "def binarySearchRecursive(arr, l, r, x):\n",
    "    # Check base case\n",
    "    if r >= l:\n",
    "        mid = l + (r - l) // 2\n",
    "        # If element is present at the middle itself\n",
    "        if arr[mid] == x:\n",
    "            return mid\n",
    "        # If element is smaller than mid, then it can only\n",
    "        # be present in left subarray\n",
    "        elif arr[mid] > x:\n",
    "            return binarySearchRecursive(arr, l, mid-1, x)\n",
    "        # Else the element can only be present in right subarray\n",
    "        else:\n",
    "            return binarySearchRecursive(arr, mid + 1, r, x)\n",
    "    else:\n",
    "        # Element is not present in the array\n",
    "        return -1\n",
    "#read list of numbers\n",
    "arr = [1,2,3,4,5,6,7,8,9,10]\n",
    "n = len(arr)\n",
    "#read element to be searched\n",
    "x = 8\n",
    "#call binarySearchRecursive\n",
    "index = binarySearchRecursive(arr, 0, n-1, x)\n",
    "if index != -1:\n",
    "    print(\"Element found at index\",index)\n",
    "else:\n",
    "    print(\"Element not found\")\n"
   ]
  },
  {
   "attachments": {},
   "cell_type": "markdown",
   "metadata": {},
   "source": [
    "# Interpolation Search"
   ]
  },
  {
   "cell_type": "code",
   "execution_count": 27,
   "metadata": {},
   "outputs": [
    {
     "name": "stdout",
     "output_type": "stream",
     "text": [
      "Element found at index 8\n"
     ]
    }
   ],
   "source": [
    "#interpolation search\n",
    "#asymptoic analysis of interpolation search\n",
    "#best case: O(1)\n",
    "#worst case: O(log(log(n)))\n",
    "#average case: O(log(log(n)))\n",
    "def interpolationSearch(arr, n, x):\n",
    "    # Find indexes of two corners\n",
    "    lo = 0\n",
    "    hi = (n - 1)\n",
    "    # Since array is sorted, an element present\n",
    "    # in array must be in range defined by corner\n",
    "    while lo <= hi and x >= arr[lo] and x <= arr[hi]:\n",
    "        if lo == hi:\n",
    "            if arr[lo] == x:\n",
    "                return lo;\n",
    "            return -1;\n",
    "        # Probing the position with keeping\n",
    "        # uniform distribution in mind.\n",
    "        pos = lo + int(((float(hi - lo) / ( arr[hi] - arr[lo])) * ( x - arr[lo])))\n",
    "        # Condition of target found\n",
    "        if arr[pos] == x:\n",
    "            return pos\n",
    "        # If x is larger, x is in upper part\n",
    "        if arr[pos] < x:\n",
    "            lo = pos + 1;\n",
    "        # If x is smaller, x is in lower part\n",
    "        else:\n",
    "            hi = pos - 1;\n",
    "    return -1\n",
    "#read list of numbers\n",
    "arr = [1,2,3,4,5,6,7,8,9,10]\n",
    "n = len(arr)\n",
    "#read element to be searched\n",
    "x = 9\n",
    "#call interpolationSearch\n",
    "index = interpolationSearch(arr, n, x)\n",
    "if index != -1:\n",
    "    print(\"Element found at index\",index)   \n",
    "else:\n",
    "    print(\"Element not found\")"
   ]
  },
  {
   "attachments": {},
   "cell_type": "markdown",
   "metadata": {},
   "source": [
    "# Polynomial Evaluation"
   ]
  },
  {
   "cell_type": "code",
   "execution_count": 31,
   "metadata": {},
   "outputs": [
    {
     "name": "stdout",
     "output_type": "stream",
     "text": [
      "Value of polynomial is  5\n"
     ]
    }
   ],
   "source": [
    "# Python program for\n",
    "# implementation of Horner Method\n",
    "# for Polynomial Evaluation\n",
    "\n",
    "# returns value of poly[0]x(n-1)\n",
    "# + poly[1]x(n-2) + .. + poly[n-1]\n",
    "def horner(poly, n, x):\n",
    "\n",
    "\t# Initialize result\n",
    "\tresult = poly[0]\n",
    "\n",
    "\t# Evaluate value of polynomial\n",
    "\t# using Horner's method\n",
    "\tfor i in range(1, n):\n",
    "\n",
    "\t\tresult = result*x + poly[i]\n",
    "\n",
    "\treturn result\n",
    "\n",
    "# Driver program to\n",
    "# test above function.\n",
    "\n",
    "# Let us evaluate value of\n",
    "# 2x3 - 6x2 + 2x - 1 for x = 3\n",
    "poly = [2, -6, 2, -1]\n",
    "x = 3\n",
    "n = len(poly)\n",
    "\n",
    "print(\"Value of polynomial is \" , horner(poly, n, x))\n",
    "\n",
    "# This code is contributed\n",
    "# by Anant Agarwal."
   ]
  },
  {
   "attachments": {},
   "cell_type": "markdown",
   "metadata": {},
   "source": [
    "## Polynomial Naive approach"
   ]
  },
  {
   "cell_type": "code",
   "execution_count": null,
   "metadata": {},
   "outputs": [],
   "source": [
    "#naive polynomial evaluation\n",
    "# Path: poly.py\n",
    "# Compare this snippet from polynomial.py:\n",
    "# # Python program for\n",
    "# # implementation of Naive Method\n",
    "# # for Polynomial Evaluation\n",
    "# #Asymptotic Analysis\n",
    "# #Time Complexity: O(n^2)\n",
    "def naive(poly, n, x):\n",
    "    # Initialize result\n",
    "    result = poly[0]\n",
    "    # Evaluate value of polynomial\n",
    "    # using naive method\n",
    "    for i in range(1, n):\n",
    "        p = poly[i]\n",
    "        for j in range(1, i+1):\n",
    "            p = p*x\n",
    "        result = result + p\n",
    " \n",
    "    return result\n",
    "poly1 = [2, -6, 2, -1]\n",
    "poly = [-1,2,-6, 2]\n",
    "x = 3\n",
    "n = len(poly)\n",
    "print(\"Value of polynomial is \" , naive(poly, n, x))"
   ]
  },
  {
   "attachments": {},
   "cell_type": "markdown",
   "metadata": {},
   "source": [
    "# Karatsuba Algorithm"
   ]
  },
  {
   "cell_type": "code",
   "execution_count": 37,
   "metadata": {},
   "outputs": [
    {
     "name": "stdout",
     "output_type": "stream",
     "text": [
      "56088\n"
     ]
    }
   ],
   "source": [
    "def multiplication(X, Y):\n",
    "    # convert numbers into string\n",
    "    x = str(X)\n",
    "    y = str(Y)\n",
    "    result = 0\n",
    "    # looping over y\n",
    "    for i in range(len(y)):\n",
    "        carry = 0  # Intermediate carry\n",
    "        inter_res = \"\"  # Intermediate result\n",
    "        # looping over x\n",
    "        for j in range(len(x) - 1, -1, -1):\n",
    "            # intermediate multiplication of each digit and addition of carry\n",
    "            num = int(y[i]) * int(x[j]) + carry\n",
    "            # if intermediate multiplication is of two digits and j>0\n",
    "            #   then second digit is appended to intermediate result\n",
    "            #   and first digit is stored as carry\n",
    "            if num > 9 and j > 0:\n",
    "                inter_res = str(num % 10) + inter_res\n",
    "                carry = num // 10\n",
    "            # else the digit is append to intermediate result\n",
    "            # And assign carry as zero\n",
    "            else:\n",
    "                inter_res = str(num) + inter_res\n",
    "                carry = 0\n",
    "        # Adding the intermediate results\n",
    "        result *= 10\n",
    "        result += int(inter_res)\n",
    "    return result\n",
    "\n",
    "input_1 = 123\n",
    "input_2 = 456\n",
    "result = multiplication(input_1, input_2)\n",
    "print(result)\n"
   ]
  },
  {
   "attachments": {},
   "cell_type": "markdown",
   "metadata": {},
   "source": [
    "# Kth smallest element"
   ]
  },
  {
   "cell_type": "code",
   "execution_count": 38,
   "metadata": {},
   "outputs": [
    {
     "name": "stdout",
     "output_type": "stream",
     "text": [
      "68\n"
     ]
    }
   ],
   "source": [
    "def find_kth_smallest_element(numbers,k):\n",
    "    pivot = numbers[0]\n",
    "    left = []\n",
    "    right = []\n",
    "    for i in numbers[1:]:\n",
    "        if i < pivot:\n",
    "            left.append(i)\n",
    "        else:\n",
    "            right.append(i)\n",
    "    if len(left) == k-1:\n",
    "        return pivot\n",
    "    elif len(left) > k-1:\n",
    "        return find_kth_smallest_element(left,k)\n",
    "    else:\n",
    "        return find_kth_smallest_element(right,k-len(left)-1)\n",
    "print(find_kth_smallest_element([10,25,3,14,52,68,71,18,19,100],8))\n",
    "\n",
    " "
   ]
  },
  {
   "attachments": {},
   "cell_type": "markdown",
   "metadata": {},
   "source": [
    "# LCS Algorithm (longest common subsequence dynamic programming)"
   ]
  },
  {
   "cell_type": "code",
   "execution_count": 42,
   "metadata": {},
   "outputs": [
    {
     "name": "stdout",
     "output_type": "stream",
     "text": [
      "Longest Common Subsequence: cdgi\n",
      "Length: 4\n"
     ]
    }
   ],
   "source": [
    "\n",
    "#longest common subsequence dynamic programming\n",
    "def lcs_dp(s1, s2):\n",
    "    if len(s1) == 0 or len(s2) == 0:\n",
    "        return \"\", 0\n",
    "    elif s1[0] == s2[0]:\n",
    "        subsequence, length = lcs_dp(s1[1:], s2[1:])\n",
    "        return s1[0] + subsequence, 1 + length\n",
    "    else:\n",
    "        subsequence1, length1 = lcs_dp(s1, s2[1:])\n",
    "        subsequence2, length2 = lcs_dp(s1[1:], s2)\n",
    "        if length1 > length2:\n",
    "            return subsequence1, length1\n",
    "        else:\n",
    "            return subsequence2, length2\n",
    "\n",
    "s1 = \"abcdefghi\"\n",
    "s2 = \"ecdgih\"\n",
    "lcs, length = lcs_dp(s1, s2)\n",
    "print(\"Longest Common Subsequence:\", lcs)\n",
    "print(\"Length:\", length)\n"
   ]
  },
  {
   "attachments": {},
   "cell_type": "markdown",
   "metadata": {},
   "source": [
    "# longest common subsequence using memoization using list\n"
   ]
  },
  {
   "cell_type": "code",
   "execution_count": 45,
   "metadata": {},
   "outputs": [
    {
     "name": "stdout",
     "output_type": "stream",
     "text": [
      "The length of longest common subsequence is 4\n"
     ]
    }
   ],
   "source": [
    "#longest common subsequence using memoization using list\n",
    "#complexity: O(mn)\n",
    "#use table to store the values\n",
    "#use dynamic programming\n",
    "#no recursion\n",
    "def lcs(s1,s2,m,n):\n",
    "    for i in range(m+1):\n",
    "        for j in range(n+1):\n",
    "            if i==0 or j==0:\n",
    "                dp[i][j]=0\n",
    "            elif s1[i-1]==s2[j-1]:\n",
    "                dp[i][j]=1+dp[i-1][j-1]\n",
    "            else:\n",
    "                dp[i][j]=max(dp[i][j-1],dp[i-1][j])\n",
    "    return dp[m][n]\n",
    "s1 = \"abcdefghi\"\n",
    "s2 = \"ecdgih\"\n",
    "m=len(s1)\n",
    "n=len(s2)\n",
    "dp=[[0 for i in range(n+1)] for j in range(m+1)]\n",
    "print(\"The length of longest common subsequence is\",lcs(s1,s2,m,n))"
   ]
  },
  {
   "attachments": {},
   "cell_type": "markdown",
   "metadata": {},
   "source": [
    "# sieve of eratosthenes\n"
   ]
  },
  {
   "cell_type": "code",
   "execution_count": 47,
   "metadata": {},
   "outputs": [
    {
     "name": "stdout",
     "output_type": "stream",
     "text": [
      "The prime numbers up to 12 are\n",
      "[True, True, True, True, True, True, True, True, True, True, True, True, True]\n",
      "2 3 5 7 11 "
     ]
    }
   ],
   "source": [
    "#sieve of eratosthenes\n",
    "#find all prime numbers up to a given number\n",
    "def sieve(n):\n",
    "    prime=[True for i in range(n+1)]\n",
    "    print(prime)\n",
    "    p=2\n",
    "    while(p*p<=n):\n",
    "        if prime[p]==True:\n",
    "            for i in range(p*p,n+1,p):\n",
    "                prime[i]=False\n",
    "        p+=1\n",
    "    for i in range(2,n+1):\n",
    "        if prime[i]==True:\n",
    "            print(i,end=\" \")\n",
    "n= 12\n",
    "print(\"The prime numbers up to\",n,\"are\")\n",
    "sieve(n)\n"
   ]
  },
  {
   "attachments": {},
   "cell_type": "markdown",
   "metadata": {},
   "source": [
    "# a^b mod n"
   ]
  },
  {
   "cell_type": "code",
   "execution_count": null,
   "metadata": {},
   "outputs": [],
   "source": [
    "#a^b mod n\n",
    "#complexity: O(log b)\n",
    "def power(a,b,n):\n",
    "    res=1\n",
    "    while(b>0):\n",
    "        if b&1:\n",
    "            res=(res*a)%n\n",
    "        a=(a*a)%n\n",
    "        b=b>>1\n",
    "    return res\n",
    "print(\"Enter the base\")\n",
    "a=int(input())\n",
    "print(\"Enter the exponent\")\n",
    "b=int(input())\n",
    "print(\"Enter the modulus\")\n",
    "n=int(input())\n",
    "print(\"The result is\",power(a,b,n))"
   ]
  },
  {
   "attachments": {},
   "cell_type": "markdown",
   "metadata": {},
   "source": [
    "# prims algorithm"
   ]
  },
  {
   "cell_type": "code",
   "execution_count": 48,
   "metadata": {},
   "outputs": [
    {
     "name": "stdout",
     "output_type": "stream",
     "text": [
      "[[0, 1, 1], [0, 2, 3], [2, 4, 2], [2, 3, 4], [3, 5, 7], [5, 6, 8]]\n"
     ]
    }
   ],
   "source": [
    "#prims algorithm\n",
    "def prims(graph, start):\n",
    "    #initialize\n",
    "    mst = []\n",
    "    visited = []\n",
    "    unvisited = []\n",
    "    for i in range(len(graph)):\n",
    "        unvisited.append(i)\n",
    "    unvisited.remove(start)\n",
    "    visited.append(start)\n",
    "    #loop until all nodes are visited\n",
    "    while len(unvisited) > 0:\n",
    "        #find the minimum edge\n",
    "        minEdge = None\n",
    "        for i in range(len(visited)):\n",
    "            for j in range(len(unvisited)):\n",
    "                if graph[visited[i]][unvisited[j]] != 0:\n",
    "                    if minEdge == None:\n",
    "                        minEdge = [visited[i], unvisited[j], graph[visited[i]][unvisited[j]]]\n",
    "                    elif graph[visited[i]][unvisited[j]] < minEdge[2]:\n",
    "                        minEdge = [visited[i], unvisited[j], graph[visited[i]][unvisited[j]]]\n",
    "        #add the minimum edge to the mst\n",
    "        mst.append(minEdge)\n",
    "        #add the new node to the visited list\n",
    "        visited.append(minEdge[1])\n",
    "        unvisited.remove(minEdge[1])\n",
    "    return mst\n",
    "#test\n",
    "graph = [[0, 1, 3, 0, 0, 0, 0],\n",
    "            [1, 0, 3, 6, 0, 0, 0],\n",
    "            [3, 3, 0, 4, 2, 0, 0],\n",
    "            [0, 6, 4, 0, 5, 7, 0],\n",
    "            [0, 0, 2, 5, 0, 0, 9],\n",
    "            [0, 0, 0, 7, 0, 0, 8],\n",
    "            [0, 0, 0, 0, 9, 8, 0]]\n",
    "print(prims(graph, 0))\n",
    "#output: [[0, 1, 1], [1, 2, 3], [2, 4, 2], [4, 3, 5], [4, 5, 7], [5, 6, 8]]"
   ]
  },
  {
   "attachments": {},
   "cell_type": "markdown",
   "metadata": {},
   "source": [
    "# coin change greedy algorithm"
   ]
  },
  {
   "cell_type": "code",
   "execution_count": 49,
   "metadata": {},
   "outputs": [
    {
     "name": "stdout",
     "output_type": "stream",
     "text": [
      "[8, 8, 8, 8, 8, 8, 8, 4, 2, 1]\n"
     ]
    }
   ],
   "source": [
    "#coin change greedy algorithm\n",
    "def coinChange(cents):\n",
    "    #coins = [25, 10, 5, 1]\n",
    "    coins = [8, 4, 2, 1]\n",
    "    change = []\n",
    "    for coin in coins:\n",
    "        while cents >= coin:\n",
    "            cents -= coin\n",
    "            change.append(coin)\n",
    "    return change\n",
    "print(coinChange(63))"
   ]
  },
  {
   "attachments": {},
   "cell_type": "markdown",
   "metadata": {},
   "source": [
    "# DFS"
   ]
  },
  {
   "cell_type": "code",
   "execution_count": 79,
   "metadata": {},
   "outputs": [
    {
     "name": "stdout",
     "output_type": "stream",
     "text": [
      "0 -> 1 -> 3 -> 2 -> 4 -> "
     ]
    }
   ],
   "source": [
    "def dfs(graph, start, visited=None):\n",
    "    if visited is None:\n",
    "        visited = [False] * len(graph)\n",
    "\n",
    "    visited[start] = True\n",
    "    print(start, \"-> \", end=\"\")\n",
    "\n",
    "    for i in range(len(graph[start])):\n",
    "        if graph[start][i] == 1 and not visited[i]:\n",
    "            dfs(graph, i, visited)\n",
    "\n",
    "\n",
    "graph = [\n",
    "    [0, 1, 1, 0, 0],\n",
    "    [0, 0, 0, 1, 0],\n",
    "    [0, 0, 0, 0, 1],\n",
    "    [0, 0, 0, 0, 0],\n",
    "    [0, 0, 0, 0, 0]\n",
    "]\n",
    "\n",
    "dfs(graph, 0)  # Starting DFS from node 0\n"
   ]
  },
  {
   "attachments": {},
   "cell_type": "markdown",
   "metadata": {},
   "source": [
    "# BFS"
   ]
  },
  {
   "cell_type": "code",
   "execution_count": 80,
   "metadata": {},
   "outputs": [
    {
     "name": "stdout",
     "output_type": "stream",
     "text": [
      "0 -> 1 -> 2 -> 3 -> 4 -> \n"
     ]
    }
   ],
   "source": [
    "def bfs(graph, start):\n",
    "    visited = [False]*len(graph)\n",
    "    visited[start] = True\n",
    "    queue = [start]\n",
    "    print(start,\"-> \",end=\"\")\n",
    "    while queue:\n",
    "        curr_node = queue.pop(0)\n",
    "        for node in range(len(graph)):\n",
    "            if graph[curr_node][node]>-1 and not visited[node]:\n",
    "                print(node,\"-> \",end=\"\")\n",
    "                visited[node] = True\n",
    "                queue.append(node)\n",
    "    print()\n",
    "graph = [\n",
    "    [0, 1, 1, 0, 0],\n",
    "    [0, 0, 0, 1, 0],\n",
    "    [0, 0, 0, 0, 1],\n",
    "    [0, 0, 0, 0, 0],\n",
    "    [0, 0, 0, 0, 0]\n",
    "]\n",
    "\n",
    "bfs(graph, 0)  # Starting BFS from node 0\n"
   ]
  },
  {
   "cell_type": "code",
   "execution_count": 83,
   "metadata": {},
   "outputs": [
    {
     "name": "stdout",
     "output_type": "stream",
     "text": [
      "Shortest distance from 0 to 0: 0\n",
      "Shortest distance from 0 to 1: 1\n",
      "Shortest distance from 0 to 2: 1\n",
      "Shortest distance from 0 to 3: 2\n",
      "Shortest distance from 0 to 4: 2\n"
     ]
    }
   ],
   "source": [
    "import sys\n",
    "\n",
    "def dijkstra(graph, start):\n",
    "    num_nodes = len(graph)\n",
    "    distances = [sys.maxsize] * num_nodes\n",
    "    distances[start] = 0\n",
    "    visited = [False] * num_nodes\n",
    "\n",
    "    for _ in range(num_nodes):\n",
    "        min_distance = sys.maxsize\n",
    "        min_node = -1\n",
    "\n",
    "        for node in range(num_nodes):\n",
    "            if not visited[node] and distances[node] < min_distance:\n",
    "                min_distance = distances[node]\n",
    "                min_node = node\n",
    "\n",
    "        visited[min_node] = True\n",
    "\n",
    "        for neighbor in range(num_nodes):\n",
    "            if (\n",
    "                graph[min_node][neighbor] > 0\n",
    "                and not visited[neighbor]\n",
    "                and distances[min_node] + graph[min_node][neighbor] < distances[neighbor]\n",
    "            ):\n",
    "                distances[neighbor] = distances[min_node] + graph[min_node][neighbor]\n",
    "\n",
    "    return distances\n",
    "graph = [\n",
    "    [0, 1, 1, 0, 0],\n",
    "    [0, 0, 0, 1, 0],\n",
    "    [0, 0, 0, 0, 1],\n",
    "    [0, 0, 0, 0, 0],\n",
    "    [0, 0, 0, 0, 0]\n",
    "]\n",
    "\n",
    "start_node = 0\n",
    "distances = dijkstra(graph, start_node)\n",
    "\n",
    "for node, distance in enumerate(distances):\n",
    "    print(f\"Shortest distance from {start_node} to {node}: {distance}\")\n",
    "\n"
   ]
  },
  {
   "attachments": {},
   "cell_type": "markdown",
   "metadata": {},
   "source": [
    "# Floyd's algorithm"
   ]
  },
  {
   "cell_type": "code",
   "execution_count": 84,
   "metadata": {},
   "outputs": [
    {
     "name": "stdout",
     "output_type": "stream",
     "text": [
      "Shortest distance from 0 to 0: 0\n",
      "Shortest distance from 0 to 1: 0\n",
      "Shortest distance from 0 to 2: 0\n",
      "Shortest distance from 0 to 3: 0\n",
      "Shortest distance from 0 to 4: 0\n",
      "Shortest distance from 1 to 0: 0\n",
      "Shortest distance from 1 to 1: 0\n",
      "Shortest distance from 1 to 2: 0\n",
      "Shortest distance from 1 to 3: 0\n",
      "Shortest distance from 1 to 4: 0\n",
      "Shortest distance from 2 to 0: 0\n",
      "Shortest distance from 2 to 1: 0\n",
      "Shortest distance from 2 to 2: 0\n",
      "Shortest distance from 2 to 3: 0\n",
      "Shortest distance from 2 to 4: 0\n",
      "Shortest distance from 3 to 0: 0\n",
      "Shortest distance from 3 to 1: 0\n",
      "Shortest distance from 3 to 2: 0\n",
      "Shortest distance from 3 to 3: 0\n",
      "Shortest distance from 3 to 4: 0\n",
      "Shortest distance from 4 to 0: 0\n",
      "Shortest distance from 4 to 1: 0\n",
      "Shortest distance from 4 to 2: 0\n",
      "Shortest distance from 4 to 3: 0\n",
      "Shortest distance from 4 to 4: 0\n"
     ]
    }
   ],
   "source": [
    "import sys\n",
    "\n",
    "def floyd(graph):\n",
    "    num_nodes = len(graph)\n",
    "    distances = [[sys.maxsize] * num_nodes for _ in range(num_nodes)]\n",
    "\n",
    "    # Initialize distances with the given graph\n",
    "    for i in range(num_nodes):\n",
    "        for j in range(num_nodes):\n",
    "            distances[i][j] = graph[i][j]\n",
    "\n",
    "    # Perform Floyd's algorithm\n",
    "    for k in range(num_nodes):\n",
    "        for i in range(num_nodes):\n",
    "            for j in range(num_nodes):\n",
    "                if (distances[i][k] + distances[k][j]) < distances[i][j]:\n",
    "                    distances[i][j] = distances[i][k] + distances[k][j]\n",
    "\n",
    "    return distances\n",
    "\n",
    "graph = [\n",
    "    [0, 1, 1, 0, 0],\n",
    "    [0, 0, 0, 1, 0],\n",
    "    [0, 0, 0, 0, 1],\n",
    "    [0, 0, 0, 0, 0],\n",
    "    [0, 0, 0, 0, 0]\n",
    "]\n",
    "\n",
    "distances = floyd(graph)\n",
    "\n",
    "for i in range(len(distances)):\n",
    "    for j in range(len(distances[i])):\n",
    "        print(f\"Shortest distance from {i} to {j}: {distances[i][j]}\")\n",
    "\n"
   ]
  },
  {
   "attachments": {},
   "cell_type": "markdown",
   "metadata": {},
   "source": [
    "# transitive_closure"
   ]
  },
  {
   "cell_type": "code",
   "execution_count": 85,
   "metadata": {},
   "outputs": [
    {
     "name": "stdout",
     "output_type": "stream",
     "text": [
      "Transitive Closure:\n",
      "[0, 1, 1, 1, 1]\n",
      "[0, 0, 0, 1, 0]\n",
      "[0, 0, 0, 0, 1]\n",
      "[0, 0, 0, 0, 0]\n",
      "[0, 0, 0, 0, 0]\n"
     ]
    }
   ],
   "source": [
    "def transitive_closure(graph):\n",
    "    num_nodes = len(graph)\n",
    "    closure = [[0] * num_nodes for _ in range(num_nodes)]\n",
    "\n",
    "    for i in range(num_nodes):\n",
    "        for j in range(num_nodes):\n",
    "            closure[i][j] = graph[i][j]\n",
    "\n",
    "    for k in range(num_nodes):\n",
    "        for i in range(num_nodes):\n",
    "            for j in range(num_nodes):\n",
    "                closure[i][j] = closure[i][j] or (closure[i][k] and closure[k][j])\n",
    "\n",
    "    return closure\n",
    "graph = [\n",
    "    [0, 1, 1, 0, 0],\n",
    "    [0, 0, 0, 1, 0],\n",
    "    [0, 0, 0, 0, 1],\n",
    "    [0, 0, 0, 0, 0],\n",
    "    [0, 0, 0, 0, 0]\n",
    "]\n",
    "\n",
    "closure = transitive_closure(graph)\n",
    "\n",
    "print(\"Transitive Closure:\")\n",
    "for row in closure:\n",
    "    print(row)\n"
   ]
  },
  {
   "attachments": {},
   "cell_type": "markdown",
   "metadata": {},
   "source": [
    "# Kruskal's algorithm in Python"
   ]
  },
  {
   "cell_type": "code",
   "execution_count": 2,
   "metadata": {},
   "outputs": [
    {
     "name": "stdout",
     "output_type": "stream",
     "text": [
      "Minimum Spanning Tree:\n",
      "Edge: (0, 1), Weight: 1\n",
      "Edge: (0, 2), Weight: 1\n",
      "Edge: (1, 3), Weight: 1\n",
      "Edge: (2, 4), Weight: 1\n",
      "Total Weight: 4\n"
     ]
    }
   ],
   "source": [
    "class DisjointSet:\n",
    "    def __init__(self, n):\n",
    "        self.parent = list(range(n))\n",
    "        self.rank = [0] * n\n",
    "\n",
    "    def find(self, x):\n",
    "        if self.parent[x] != x:\n",
    "            self.parent[x] = self.find(self.parent[x])\n",
    "        return self.parent[x]\n",
    "\n",
    "    def union(self, x, y):\n",
    "        root_x = self.find(x)\n",
    "        root_y = self.find(y)\n",
    "\n",
    "        if self.rank[root_x] < self.rank[root_y]:\n",
    "            self.parent[root_x] = root_y\n",
    "        elif self.rank[root_x] > self.rank[root_y]:\n",
    "            self.parent[root_y] = root_x\n",
    "        else:\n",
    "            self.parent[root_y] = root_x\n",
    "            self.rank[root_x] += 1\n",
    "\n",
    "\n",
    "def kruskal(graph):\n",
    "    num_nodes = len(graph)\n",
    "    disjoint_set = DisjointSet(num_nodes)\n",
    "    edges = []\n",
    "\n",
    "    # Create a list of all edges in the graph\n",
    "    for i in range(num_nodes):\n",
    "        for j in range(i + 1, num_nodes):\n",
    "            if graph[i][j] > 0:\n",
    "                edges.append((i, j, graph[i][j]))\n",
    "\n",
    "    # Sort edges based on their weights in ascending order\n",
    "    edges.sort(key=lambda x: x[2])\n",
    "\n",
    "    # Initialize variables for minimum spanning tree\n",
    "    min_spanning_tree = []\n",
    "    total_weight = 0\n",
    "\n",
    "    # Process each edge in ascending order of weights\n",
    "    for edge in edges:\n",
    "        u, v, weight = edge\n",
    "\n",
    "        # Check if adding the edge forms a cycle\n",
    "        if disjoint_set.find(u) != disjoint_set.find(v):\n",
    "            disjoint_set.union(u, v)\n",
    "            min_spanning_tree.append((u, v, weight))\n",
    "            total_weight += weight\n",
    "\n",
    "    return min_spanning_tree, total_weight\n",
    "\n",
    "\n",
    "# Example graph represented as a 2D array\n",
    "graph = [\n",
    "    [0, 1, 1, 0, 0],\n",
    "    [0, 0, 0, 1, 0],\n",
    "    [0, 0, 0, 0, 1],\n",
    "    [0, 0, 0, 0, 0],\n",
    "    [0, 0, 0, 0, 0]\n",
    "]\n",
    "\n",
    "# Compute minimum spanning tree using Kruskal's algorithm\n",
    "min_spanning_tree, total_weight = kruskal(graph)\n",
    "\n",
    "# Print the minimum spanning tree and total weight\n",
    "print(\"Minimum Spanning Tree:\")\n",
    "for edge in min_spanning_tree:\n",
    "    u, v, weight = edge\n",
    "    print(f\"Edge: ({u}, {v}), Weight: {weight}\")\n",
    "\n",
    "print(\"Total Weight:\", total_weight)\n"
   ]
  },
  {
   "attachments": {},
   "cell_type": "markdown",
   "metadata": {},
   "source": [
    "# Knapsack problem using dynamic programming"
   ]
  },
  {
   "cell_type": "code",
   "execution_count": 1,
   "metadata": {},
   "outputs": [
    {
     "name": "stdout",
     "output_type": "stream",
     "text": [
      "Maximum value: 10\n",
      "Selected items: [3, 1]\n"
     ]
    }
   ],
   "source": [
    "def knapsack(weights, values, capacity):\n",
    "    n = len(weights)\n",
    "    dp = [[0] * (capacity + 1) for _ in range(n + 1)]\n",
    "\n",
    "    for i in range(1, n + 1):\n",
    "        for j in range(1, capacity + 1):\n",
    "            if weights[i - 1] <= j:\n",
    "                dp[i][j] = max(values[i - 1] + dp[i - 1][j - weights[i - 1]], dp[i - 1][j])\n",
    "            else:\n",
    "                dp[i][j] = dp[i - 1][j]\n",
    "\n",
    "    selected_items = []\n",
    "    total_value = dp[n][capacity]\n",
    "    w = capacity\n",
    "\n",
    "    for i in range(n, 0, -1):\n",
    "        if dp[i][w] != dp[i - 1][w]:\n",
    "            selected_items.append(i - 1)\n",
    "            w -= weights[i - 1]\n",
    "\n",
    "    return total_value, selected_items\n",
    "\n",
    "\n",
    "# Example input\n",
    "weights = [2, 3, 4, 5]\n",
    "values = [3, 4, 5, 6]\n",
    "capacity = 8\n",
    "\n",
    "# Compute the maximum value and selected items\n",
    "max_value, selected_items = knapsack(weights, values, capacity)\n",
    "\n",
    "print(\"Maximum value:\", max_value)\n",
    "print(\"Selected items:\", selected_items)\n"
   ]
  },
  {
   "attachments": {},
   "cell_type": "markdown",
   "metadata": {},
   "source": [
    "# largest increasing sequence"
   ]
  },
  {
   "cell_type": "code",
   "execution_count": 4,
   "metadata": {},
   "outputs": [
    {
     "name": "stdout",
     "output_type": "stream",
     "text": [
      "Largest Increasing Sequence: [9, 7]\n"
     ]
    }
   ],
   "source": [
    "def largest_increasing_sequence(nums):\n",
    "    n = len(nums)\n",
    "    dp = [1] * n  # Initialize a dynamic programming table with all values set to 1\n",
    "\n",
    "    # Compute the lengths of increasing sequences ending at each position\n",
    "    for i in range(1, n):\n",
    "        for j in range(i):\n",
    "            if nums[i] > nums[j]:\n",
    "                dp[i] = max(dp[i], dp[j] + 1)\n",
    "\n",
    "    # Find the maximum length of the increasing sequence\n",
    "    max_length = max(dp)\n",
    "\n",
    "    # Find the indices of the elements in the increasing sequence\n",
    "    indices = [i for i in range(n) if dp[i] == max_length]\n",
    "\n",
    "    # Build the largest increasing sequence using the indices\n",
    "    sequence = [nums[i] for i in indices]\n",
    "\n",
    "    return sequence\n",
    "\n",
    "# Example input\n",
    "numbers = [5, 2, 8, 6, 3, 6, 9, 7]\n",
    "\n",
    "# Compute the largest increasing sequence\n",
    "result = largest_increasing_sequence(numbers)\n",
    "\n",
    "# Print the result\n",
    "print(\"Largest Increasing Sequence:\", result)\n"
   ]
  },
  {
   "attachments": {},
   "cell_type": "markdown",
   "metadata": {},
   "source": [
    "# largest decreasing sequence"
   ]
  },
  {
   "cell_type": "code",
   "execution_count": 5,
   "metadata": {},
   "outputs": [
    {
     "name": "stdout",
     "output_type": "stream",
     "text": [
      "Largest Decreasing Sequence: [3]\n"
     ]
    }
   ],
   "source": [
    "def largest_decreasing_sequence(nums):\n",
    "    n = len(nums)\n",
    "    dp = [1] * n  # Initialize a dynamic programming table with all values set to 1\n",
    "\n",
    "    # Compute the lengths of decreasing sequences ending at each position\n",
    "    for i in range(1, n):\n",
    "        for j in range(i):\n",
    "            if nums[i] < nums[j]:  # Compare for a decreasing sequence\n",
    "                dp[i] = max(dp[i], dp[j] + 1)\n",
    "\n",
    "    # Find the maximum length of the decreasing sequence\n",
    "    max_length = max(dp)\n",
    "\n",
    "    # Find the indices of the elements in the decreasing sequence\n",
    "    indices = [i for i in range(n) if dp[i] == max_length]\n",
    "\n",
    "    # Build the largest decreasing sequence using the indices\n",
    "    sequence = [nums[i] for i in indices]\n",
    "\n",
    "    return sequence\n",
    "\n",
    "# Example input\n",
    "numbers = [5, 2, 8, 6, 3, 6, 9, 7]\n",
    "\n",
    "# Compute the largest decreasing sequence\n",
    "result = largest_decreasing_sequence(numbers)\n",
    "\n",
    "# Print the result\n",
    "print(\"Largest Decreasing Sequence:\", result)\n"
   ]
  },
  {
   "attachments": {},
   "cell_type": "markdown",
   "metadata": {},
   "source": [
    "# find out the maximum and minimum numbers"
   ]
  },
  {
   "cell_type": "code",
   "execution_count": 89,
   "metadata": {},
   "outputs": [
    {
     "name": "stdout",
     "output_type": "stream",
     "text": [
      "\n",
      "Minimum Value:  0\n",
      "Maximum Value:  7\n"
     ]
    }
   ],
   "source": [
    "# 1. Develop a program to find out the maximum and minimum numbers in a given list of n numbers using the divide and conquer technique.\n",
    "def findMinAndMax(nums, left, right, min= 9999, max= -9999): \n",
    "    # if the list contains only one element\n",
    "    if left == right:            \n",
    "        if min > nums[right]: \n",
    "            min = nums[right]\n",
    "        if max < nums[left]: \n",
    "            max = nums[left]\n",
    " \n",
    "        return min, max\n",
    "\n",
    "    # if the list contains only two elements \n",
    "    if right - left == 1: \n",
    "        if nums[left] < nums[right]:\n",
    "            if min > nums[left]:\n",
    "                min = nums[left]\n",
    "            if max < nums[right]:\n",
    "                max = nums[right]\n",
    " \n",
    "        else:\n",
    "            if min > nums[right]:\n",
    "                min = nums[right]\n",
    " \n",
    "            if max < nums[left]:\n",
    "                max = nums[left]\n",
    " \n",
    "        return min, max\n",
    "    \n",
    "    # find the middle element\n",
    "    mid = (left + right) // 2\n",
    " \n",
    "    # recur for the left sublist\n",
    "    min, max = findMinAndMax(nums, left, mid, min, max)\n",
    " \n",
    "    # recur for the right sublist\n",
    "    min, max = findMinAndMax(nums, mid + 1, right, min, max)\n",
    " \n",
    "    return min, max\n",
    "\n",
    "\n",
    "\n",
    "arr = [1,7,3,4,0,3,6,7]\n",
    "min_, max_ = findMinAndMax(arr, 0, len(arr)-1)\n",
    "print(\"\\nMinimum Value: \", min_)\n",
    "print(\"Maximum Value: \", max_)"
   ]
  },
  {
   "cell_type": "code",
   "execution_count": 91,
   "metadata": {},
   "outputs": [
    {
     "data": {
      "image/png": "[encoded data removed]",
      "text/plain": [
       "<Figure size 640x480 with 1 Axes>"
      ]
     },
     "metadata": {},
     "output_type": "display_data"
    }
   ],
   "source": [
    "# 2. Implement Merge sort and Quick sort methods to sort an array of elements and determine thetime required to sort. Repeat the experiment for different values of n, the number of elements in the list to be sorted and plot a graph of the time taken versus n.\n",
    "import matplotlib.pyplot as plt\n",
    "import random\n",
    "\n",
    "def merge_sort(arr):\n",
    "    global steps\n",
    "    if len(arr) > 1:\n",
    "        mid = len(arr)//2\n",
    "        L = arr[:mid]\n",
    "        R = arr[mid:]\n",
    "        merge_sort(L)\n",
    "        merge_sort(R)\n",
    "        i = j = k = 0\n",
    "        while i < len(L) and j < len(R):\n",
    "            if L[i] < R[j]:\n",
    "                steps=steps+1\n",
    "                arr[k] = L[i]\n",
    "                i += 1\n",
    "            else:\n",
    "                steps=steps+1\n",
    "                arr[k] = R[j]\n",
    "                j += 1\n",
    "            k += 1\n",
    "\n",
    "        while i < len(L):\n",
    "            arr[k] = L[i]\n",
    "            i += 1\n",
    "            k += 1\n",
    " \n",
    "        while j < len(R):\n",
    "            arr[k] = R[j]\n",
    "            j += 1\n",
    "            k += 1\n",
    "\n",
    "\n",
    "def partition(array, low, high):\n",
    "    global steps\n",
    "    pivot = array[high]\n",
    "    i = low - 1\n",
    "    for j in range(low, high):\n",
    "        steps+=1\n",
    "        if array[j] <= pivot:\n",
    "            i = i + 1\n",
    "            (array[i], array[j]) = (array[j], array[i])\n",
    " \n",
    "    (array[i + 1], array[high]) = (array[high], array[i + 1])\n",
    " \n",
    "    return i + 1\n",
    " \n",
    "\n",
    "\n",
    "def quick_sort(array, low, high):\n",
    "    global steps\n",
    "    steps+=1\n",
    "    if low < high:\n",
    "        pi = partition(array, low, high)\n",
    "        quick_sort(array, low, pi - 1)\n",
    "        quick_sort(array, pi + 1, high)\n",
    "\n",
    "\n",
    "N = 30\n",
    "n_list = [1,2,3,4,5,6,7,8,9,10,11,12,13,14,15,16,17,18,19,20,21,22,23,24,25,26,27,28,29,30]\n",
    "t_list_merge = []\n",
    "t_list_quick = []\n",
    "\n",
    "for n in n_list:\n",
    "    sort_list = []\n",
    "    for i in range(n):\n",
    "        sort_list.append(random.randint(0,1000))\n",
    "    steps = 0\n",
    "    quick_sort(sort_list,0,n-1)\n",
    "    t_list_quick.append(steps)\n",
    "    steps = 0\n",
    "    merge_sort(sort_list)\n",
    "    t_list_merge.append(steps)\n",
    "\n",
    "plt.plot(n_list, t_list_merge, label=\"Merge Sort\")\n",
    "plt.plot(n_list, t_list_quick, label=\"Quick Sort\")\n",
    "plt.legend()\n",
    "plt.show()"
   ]
  },
  {
   "attachments": {},
   "cell_type": "markdown",
   "metadata": {},
   "source": [
    "# N Queens problem using Backtracking."
   ]
  },
  {
   "cell_type": "code",
   "execution_count": 93,
   "metadata": {},
   "outputs": [
    {
     "name": "stdout",
     "output_type": "stream",
     "text": [
      "1 0 0 0 0 \n",
      "0 0 0 1 0 \n",
      "0 1 0 0 0 \n",
      "0 0 0 0 1 \n",
      "0 0 1 0 0 \n"
     ]
    },
    {
     "data": {
      "text/plain": [
       "True"
      ]
     },
     "execution_count": 93,
     "metadata": {},
     "output_type": "execute_result"
    }
   ],
   "source": [
    "# 1. Implement N Queens problem using Backtracking.\\\n",
    "# Python3 program to solve N Queen\n",
    "# Problem using backtracking\n",
    "global N\n",
    "\n",
    "def printSolution(board):\n",
    "\tfor i in range(N):\n",
    "\t\tfor j in range(N):\n",
    "\t\t\tprint(board[i][j], end = \" \")\n",
    "\t\tprint()\n",
    "\n",
    "\n",
    "def isSafe(board, row, col):\n",
    "\tfor i in range(col):\n",
    "\t\tif board[row][i] == 1:\n",
    "\t\t\treturn False\n",
    "\n",
    "\tfor i, j in zip(range(row, -1, -1),range(col, -1, -1)):\n",
    "\t\tif board[i][j] == 1:\n",
    "\t\t\treturn False\n",
    "\n",
    "\tfor i, j in zip(range(row, N, 1),range(col, -1, -1)):\n",
    "\t\tif board[i][j] == 1:\n",
    "\t\t\treturn False\n",
    "\n",
    "\treturn True\n",
    "\n",
    "def solveNQUtil(board, col):\n",
    "\tif col >= N:\n",
    "\t\treturn True\n",
    "\n",
    "\tfor i in range(N):\n",
    "\t\tif isSafe(board, i, col):\n",
    "\t\t\tboard[i][col] = 1\n",
    "\t\t\tif solveNQUtil(board, col + 1) == True:\n",
    "\t\t\t\treturn True\n",
    "\t\t\tboard[i][col] = 0\n",
    "\n",
    "\treturn False\n",
    "\n",
    "\n",
    "def solveNQ():\n",
    "\tboard = [[0 for i in range(N)] for j in range(N)]\n",
    "\n",
    "\tif solveNQUtil(board, 0) == False:\n",
    "\t\tprint (\"Solution does not exist\")\n",
    "\t\treturn False\n",
    "\n",
    "\tprintSolution(board)\n",
    "\treturn True\n",
    "\n",
    "# Driver Code\n",
    "\n",
    "\n",
    "N = 5\n",
    "solveNQ()"
   ]
  },
  {
   "attachments": {},
   "cell_type": "markdown",
   "metadata": {},
   "source": [
    "# Traveling Salesperson problem"
   ]
  },
  {
   "cell_type": "code",
   "execution_count": 95,
   "metadata": {},
   "outputs": [
    {
     "name": "stdout",
     "output_type": "stream",
     "text": [
      "Optimal solution: \n",
      "The path is: 0-->1-->3-->0\n",
      "Minimum Cost:  2\n",
      "\n",
      "Approximated Solution: \n",
      "The path is: 0-->1-->3-->0\n",
      "Minimum Cost:  2\n",
      "Error in approximation is approximated solution/optimal solution=  1.0\n"
     ]
    }
   ],
   "source": [
    "def mincost_opt(city):\n",
    "    global visit, cost_opt\n",
    "    visit[city]=1\n",
    "    print(f'{city}-->',end=\"\")\n",
    "    ncity = least_opt(city)\n",
    "    if ncity==999:\n",
    "        ncity = 0\n",
    "        print(ncity,end=\"\")\n",
    "        cost_opt+=a[city][ncity]\n",
    "        return\n",
    "    mincost_opt(ncity)\n",
    "\n",
    "\n",
    "def mincost_apr(city):\n",
    "    global visit, cost_apr\n",
    "    visit[city] = 1\n",
    "    print(f'{city}-->',end=\"\")\n",
    "    ncity = least_apr(city)\n",
    "    if ncity==999:\n",
    "        ncity = 0\n",
    "        print(ncity,end=\"\")\n",
    "        cost_apr+=a[city][ncity]\n",
    "        return\n",
    "    mincost_apr(ncity)\n",
    "\n",
    "\n",
    "def least_opt(c):\n",
    "    global visit, cost_opt,n\n",
    "    nc = 999\n",
    "    min_=999\n",
    "    kmin=999\n",
    "    for i in range(n):\n",
    "        if a[c][i]!=0 and visit[i]==0:\n",
    "            if a[c][i]<min_:\n",
    "                min_=a[i][1]+a[c][i]\n",
    "                kmin = a[c][i]\n",
    "                nc=i\n",
    "    if min_!=999:\n",
    "        cost_opt+=kmin\n",
    "    return nc\n",
    "\n",
    "\n",
    "def least_apr(c):\n",
    "    global visit, cost_apr,n\n",
    "    nc = 999\n",
    "    min_=999\n",
    "    kmin=999\n",
    "    for i in range(n):\n",
    "        if a[c][i]!=0 and visit[i]==0:\n",
    "            if a[c][i]<kmin:\n",
    "                min_=a[i][1]+a[c][i]\n",
    "                kmin = a[c][i]\n",
    "                nc=i\n",
    "    if min_!=999:\n",
    "        cost_apr+=kmin\n",
    "    return nc\n",
    "\n",
    "visit = [0] * 10\n",
    "a = [[0 for _ in range(10)] for _ in range(10)]\n",
    "cost_opt = 0\n",
    "cost_apr = 0\n",
    "n = 5  # Number of cities\n",
    "\n",
    "graph = [\n",
    "    [0, 1, 1, 0, 0],\n",
    "    [0, 0, 0, 1, 0],\n",
    "    [0, 0, 0, 0, 1],\n",
    "    [0, 0, 0, 0, 0],\n",
    "    [0, 0, 0, 0, 0]\n",
    "]\n",
    "\n",
    "for i in range(n):\n",
    "    for j in range(n):\n",
    "        a[i][j] = graph[i][j]\n",
    "\n",
    "print(\"Optimal solution: \\nThe path is: \", end=\"\")\n",
    "mincost_opt(0)\n",
    "print(\"\\nMinimum Cost: \", cost_opt)\n",
    "\n",
    "visit = [0] * 10\n",
    "\n",
    "print(\"\\nApproximated Solution: \\nThe path is: \", end=\"\")\n",
    "mincost_apr(0)\n",
    "print(\"\\nMinimum Cost: \", cost_apr)\n",
    "\n",
    "print(\"Error in approximation is approximated solution/optimal solution= \", cost_apr / cost_opt)\n"
   ]
  },
  {
   "attachments": {},
   "cell_type": "markdown",
   "metadata": {},
   "source": [
    "# Fermat's Last theorem"
   ]
  },
  {
   "cell_type": "code",
   "execution_count": 96,
   "metadata": {},
   "outputs": [
    {
     "ename": "KeyboardInterrupt",
     "evalue": "",
     "output_type": "error",
     "traceback": [
      "\u001b[1;31m---------------------------------------------------------------------------\u001b[0m",
      "\u001b[1;31mKeyboardInterrupt\u001b[0m                         Traceback (most recent call last)",
      "Cell \u001b[1;32mIn[96], line 15\u001b[0m\n\u001b[0;32m     11\u001b[0m \u001b[39mfor\u001b[39;00m z \u001b[39min\u001b[39;00m \u001b[39mrange\u001b[39m(\u001b[39m1\u001b[39m, \u001b[39m100\u001b[39m):\n\u001b[0;32m     12\u001b[0m     \u001b[39m#generate all the values of n\u001b[39;00m\n\u001b[0;32m     13\u001b[0m     \u001b[39mfor\u001b[39;00m n \u001b[39min\u001b[39;00m \u001b[39mrange\u001b[39m(\u001b[39m3\u001b[39m, \u001b[39m100\u001b[39m):\n\u001b[0;32m     14\u001b[0m         \u001b[39m#check if x^n+y^n=z^n\u001b[39;00m\n\u001b[1;32m---> 15\u001b[0m         \u001b[39mif\u001b[39;00m x\u001b[39m*\u001b[39;49m\u001b[39m*\u001b[39;49mn \u001b[39m+\u001b[39m y\u001b[39m*\u001b[39m\u001b[39m*\u001b[39mn \u001b[39m==\u001b[39m z\u001b[39m*\u001b[39m\u001b[39m*\u001b[39mn:\n\u001b[0;32m     16\u001b[0m             \u001b[39m#print the values of x, y, z, n\u001b[39;00m\n\u001b[0;32m     17\u001b[0m             \u001b[39mprint\u001b[39m(\u001b[39m\"\u001b[39m\u001b[39mx = \u001b[39m\u001b[39m\"\u001b[39m, x, \u001b[39m\"\u001b[39m\u001b[39my = \u001b[39m\u001b[39m\"\u001b[39m, y, \u001b[39m\"\u001b[39m\u001b[39mz = \u001b[39m\u001b[39m\"\u001b[39m, z, \u001b[39m\"\u001b[39m\u001b[39mn = \u001b[39m\u001b[39m\"\u001b[39m, n)\n\u001b[0;32m     18\u001b[0m             \u001b[39m#exit the loop\u001b[39;00m\n",
      "\u001b[1;31mKeyboardInterrupt\u001b[0m: "
     ]
    }
   ],
   "source": [
    "#x^n+y^n=z^n for n>2\n",
    "#generate all the values of n for which the equation is true\n",
    "#version1\n",
    "#generate all the values of x, y, z\n",
    "#print number not found\n",
    "#should not go in infinte loop\n",
    "#if we break the loop, we should print number not found\n",
    "\n",
    "for x in range(1, 100):\n",
    "    for y in range(1, 100):\n",
    "        for z in range(1, 100):\n",
    "            #generate all the values of n\n",
    "            for n in range(3, 100):\n",
    "                #check if x^n+y^n=z^n\n",
    "                if x**n + y**n == z**n:\n",
    "                    #print the values of x, y, z, n\n",
    "                    print(\"x = \", x, \"y = \", y, \"z = \", z, \"n = \", n)\n",
    "                    #exit the loop\n",
    "                    break\n",
    "#print number not found\n",
    "#if we break the loop, we should print number not found\n",
    "print(\"Number not found\")"
   ]
  }
 ],
 "metadata": {
  "kernelspec": {
   "display_name": "Python 3",
   "language": "python",
   "name": "python3"
  },
  "language_info": {
   "codemirror_mode": {
    "name": "ipython",
    "version": 3
   },
   "file_extension": ".py",
   "mimetype": "text/x-python",
   "name": "python",
   "nbconvert_exporter": "python",
   "pygments_lexer": "ipython3",
   "version": "3.11.4"
  },
  "orig_nbformat": 4
 },
 "nbformat": 4,
 "nbformat_minor": 2
}
